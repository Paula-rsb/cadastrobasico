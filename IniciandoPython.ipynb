{
 "cells": [
  {
   "cell_type": "code",
   "execution_count": null,
   "id": "87c3ca0a",
   "metadata": {},
   "outputs": [],
   "source": [
    "nome = input('Escreva seu nome: ')\n",
    "cpf = input('seu numero de CPF')\n",
    "endereco = input('seu endereço')\n",
    "idade = input('sua idade: ')\n",
    "altura = input('sua altura: ')\n",
    "telefone = input('seu numero de celular com DDD')\n",
    "\n",
    "print ('Nome:',nome)\n",
    "print ('CPF:',cpf)\n",
    "print ('Endereço:',endereco)\n",
    "print ('Idade:',idade)\n",
    "print ('Altura:',altura)\n",
    "print ('Telefone:',telefone)"
   ]
  },
  {
   "cell_type": "code",
   "execution_count": null,
   "id": "8dfb2837",
   "metadata": {},
   "outputs": [],
   "source": []
  }
 ],
 "metadata": {
  "kernelspec": {
   "display_name": "Python 3",
   "language": "python",
   "name": "python3"
  },
  "language_info": {
   "codemirror_mode": {
    "name": "ipython",
    "version": 3
   },
   "file_extension": ".py",
   "mimetype": "text/x-python",
   "name": "python",
   "nbconvert_exporter": "python",
   "pygments_lexer": "ipython3",
   "version": "3.8.8"
  }
 },
 "nbformat": 4,
 "nbformat_minor": 5
}
